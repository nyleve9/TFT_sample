{
 "cells": [
  {
   "cell_type": "markdown",
   "metadata": {},
   "source": [
    "# Analyst Exercise\n",
    "### Evelyn Cheng\n",
    "#### June 23, 2019"
   ]
  },
  {
   "cell_type": "markdown",
   "metadata": {},
   "source": [
    "### 1. Perform any necessary data cleaning and quality control to get the data ready for analysis."
   ]
  },
  {
   "cell_type": "code",
   "execution_count": 7,
   "metadata": {
    "collapsed": true
   },
   "outputs": [],
   "source": [
    "# Include matplotlib plots within jupyter notebook\n",
    "import numpy as np\n",
    "import pandas as pd\n",
    "import matplotlib.pyplot as plt\n",
    "%matplotlib inline"
   ]
  },
  {
   "cell_type": "code",
   "execution_count": 8,
   "metadata": {
    "collapsed": false
   },
   "outputs": [],
   "source": [
    "# Import csv data as dataframe\n",
    "eof_df = pd.DataFrame.from_csv('data/DATA.csv', index_col=None)\n",
    "\n",
    "# Replace the '#VALUE!' strings with NaN's\n",
    "eof_df = eof_df.replace('#VALUE!', np.nan)\n",
    "\n",
    "# Convert fieldID into categorical datatype and OrganicN into float64\n",
    "eof_df[\"fieldID\"] = eof_df[\"fieldID\"].astype('object')\n",
    "eof_df[\"OrganicN\"] = eof_df[\"OrganicN\"].astype('float')\n",
    "\n",
    "# Delete last 5 columns which are nonsense\n",
    "eof_df = eof_df.drop(['Unnamed: 11','Unnamed: 12','Unnamed: 13','Unnamed: 14','Unnamed: 15'], axis=1)\n",
    "\n",
    "# Delete last 1300 rows\n",
    "eof_df = eof_df[:-1300]"
   ]
  },
  {
   "cell_type": "code",
   "execution_count": null,
   "metadata": {
    "collapsed": false
   },
   "outputs": [],
   "source": [
    "# Replace all negative numbers with NaN's, because even if it were theoretically possible to have \n",
    "# negative values for the nutrient additions, it's highly unlikely, especially given these\n",
    "# wildly outlier-negative numbers.\n",
    "\n",
    "eof_df[\"OrganicN\"] = np.where(eof_df[\"OrganicN\"] >= 0, eof_df[\"OrganicN\"], np.nan)\n",
    "eof_df[\"NO3\"] = np.where(eof_df[\"NO3\"] >= 0, eof_df[\"NO3\"], np.nan)\n",
    "eof_df[\"OrganicP\"] = np.where(eof_df[\"OrganicP\"] >= 0, eof_df[\"OrganicP\"], np.nan)\n",
    "eof_df[\"SolubleP\"] = np.where(eof_df[\"SolubleP\"] >= 0, eof_df[\"SolubleP\"], np.nan)\n",
    "eof_df[\"Sediment\"] = np.where(eof_df[\"Sediment\"] >= 0, eof_df[\"Sediment\"], np.nan)\n",
    "\n",
    "# Delete 16 rows for fields #4737 and #4738 because area can't equal 0\n",
    "eof_df = eof_df[eof_df.area != 0]\n",
    "\n",
    "# Take all of the zeros out of the fieldID's\n",
    "eof_df.fieldID = eof_df.fieldID.apply(lambda x: str(x).replace('.0', ''))"
   ]
  },
  {
   "cell_type": "code",
   "execution_count": null,
   "metadata": {
    "collapsed": false
   },
   "outputs": [],
   "source": [
    "# Since the values for OrganicN appear to roughly follow the same trends as those of NO3, OrganicP, SolubleP, \n",
    "# and Sediment, the ideal imputation method to use for the NaN OrganicN values might be kNN clustering. \n",
    "# However, because I'm just going to be comparing means of treatment groups, for now I'm going to use \n",
    "# the \"quick and dirty\" method of filling the NaN values with the mean value of the column.\n",
    "eof_df.fillna(eof_df.mean(), inplace=True);"
   ]
  },
  {
   "cell_type": "code",
   "execution_count": null,
   "metadata": {
    "collapsed": false
   },
   "outputs": [],
   "source": [
    "# Visually inspect plots of nutrient levels for outliers\n",
    "eof_df.plot.scatter(x='fieldID', y='OrganicN')\n",
    "eof_df.plot.scatter(x='fieldID', y='NO3')\n",
    "eof_df.plot.scatter(x='fieldID', y='OrganicP')\n",
    "eof_df.plot.scatter(x='fieldID', y='SolubleP')\n",
    "eof_df.plot.scatter(x='fieldID', y='Sediment')\n",
    "\n",
    "# Zoomed in\n",
    "eof_df.plot.scatter(x='fieldID', y='area').set_ylim((0,20))"
   ]
  },
  {
   "cell_type": "code",
   "execution_count": null,
   "metadata": {
    "collapsed": false
   },
   "outputs": [],
   "source": [
    "# NOTE:\n",
    "# field 4967 has 8 extra rows from duplicated scenarios which have no data. \n",
    "# Recommended action: delete extra rows\n",
    "\n",
    "# 4710 & 4717 each have 4 extra rows for scenarios involving drip irrigation (in addition to flood and sprinkler irrigation). \n",
    "# Recommended action: leave them in for now\n",
    "\n",
    "eof_df.groupby(['fieldID']).size().sort_values(ascending=False).head()"
   ]
  },
  {
   "cell_type": "code",
   "execution_count": null,
   "metadata": {
    "collapsed": false
   },
   "outputs": [],
   "source": [
    "# Delete the duplicate rows for field 4967 which have a value of \"0\" for sediment\n",
    "eof_df = eof_df.drop(eof_df[(eof_df['Sediment'] == 0) & (eof_df['fieldID'] == 4967)].index)"
   ]
  },
  {
   "cell_type": "code",
   "execution_count": null,
   "metadata": {
    "collapsed": true
   },
   "outputs": [],
   "source": [
    "# Save munged dataset as new csv file\n",
    "eof_df.to_csv(\"eof_clean.csv\", encoding='utf8')"
   ]
  },
  {
   "cell_type": "markdown",
   "metadata": {},
   "source": [
    "### 2. Create two new columns, one for total phosphorus (OrganicP + SolubleP) and another for total nitrogen (OrganicN + NO3)."
   ]
  },
  {
   "cell_type": "code",
   "execution_count": null,
   "metadata": {
    "collapsed": false
   },
   "outputs": [],
   "source": [
    "df = pd.DataFrame.from_csv('eof_clean.csv')"
   ]
  },
  {
   "cell_type": "code",
   "execution_count": null,
   "metadata": {
    "collapsed": true
   },
   "outputs": [],
   "source": [
    "df['TotalP'] = df['OrganicP'] + df['SolubleP']\n",
    "df['TotalN'] = df['OrganicN'] + df['NO3']"
   ]
  },
  {
   "cell_type": "raw",
   "metadata": {
    "collapsed": true
   },
   "source": [
    "## More data munging actions that took place here:\n",
    "\n",
    "# I also deleted Plot 4767, for having values of zero across the board. This is probably a mistake that needs\n",
    "# to be looked into.\n",
    "\n",
    "# In Excel, I combined all treatments in a separate column (\"treatments\") and then saved the spreadsheet as \"eof_totals_2.csv\".\n",
    "\n",
    "#Also, this may not have been the best way to do things, but eventually I will be using a log transform, so I am changing all of the zeros in the Sediment column to 0.1 (in \"eof_totals_2.csv\"), to match the correspondingly low values of the other nutrients for those plots."
   ]
  },
  {
   "cell_type": "code",
   "execution_count": 9,
   "metadata": {
    "collapsed": false,
    "scrolled": true
   },
   "outputs": [
    {
     "data": {
      "text/html": [
       "<div>\n",
       "<table border=\"1\" class=\"dataframe\">\n",
       "  <thead>\n",
       "    <tr style=\"text-align: right;\">\n",
       "      <th></th>\n",
       "      <th>fieldID</th>\n",
       "      <th>irrigation</th>\n",
       "      <th>buffer</th>\n",
       "      <th>fence</th>\n",
       "      <th>treatment</th>\n",
       "      <th>scenario_type</th>\n",
       "      <th>area</th>\n",
       "      <th>OrganicN</th>\n",
       "      <th>NO3</th>\n",
       "      <th>OrganicP</th>\n",
       "      <th>SolubleP</th>\n",
       "      <th>Sediment</th>\n",
       "      <th>TotalP</th>\n",
       "      <th>TotalN</th>\n",
       "    </tr>\n",
       "  </thead>\n",
       "  <tbody>\n",
       "    <tr>\n",
       "      <th>0</th>\n",
       "      <td>4686</td>\n",
       "      <td>flood_irr</td>\n",
       "      <td>buff_none</td>\n",
       "      <td>no_fence</td>\n",
       "      <td>flo</td>\n",
       "      <td>current condition</td>\n",
       "      <td>3.61749</td>\n",
       "      <td>16.971480</td>\n",
       "      <td>5.329404</td>\n",
       "      <td>2.262886</td>\n",
       "      <td>2.447538</td>\n",
       "      <td>16.526993</td>\n",
       "      <td>4.710425</td>\n",
       "      <td>22.300884</td>\n",
       "    </tr>\n",
       "    <tr>\n",
       "      <th>1</th>\n",
       "      <td>4686</td>\n",
       "      <td>flood_irr</td>\n",
       "      <td>buff_none</td>\n",
       "      <td>fenced</td>\n",
       "      <td>flo_fence</td>\n",
       "      <td>alternative</td>\n",
       "      <td>3.61749</td>\n",
       "      <td>3.591848</td>\n",
       "      <td>1.127916</td>\n",
       "      <td>0.478918</td>\n",
       "      <td>0.517997</td>\n",
       "      <td>3.497776</td>\n",
       "      <td>0.996915</td>\n",
       "      <td>4.719764</td>\n",
       "    </tr>\n",
       "    <tr>\n",
       "      <th>2</th>\n",
       "      <td>4686</td>\n",
       "      <td>flood_irr</td>\n",
       "      <td>buffer</td>\n",
       "      <td>no_fence</td>\n",
       "      <td>flo_buff</td>\n",
       "      <td>alternative</td>\n",
       "      <td>3.61749</td>\n",
       "      <td>3.626385</td>\n",
       "      <td>1.094963</td>\n",
       "      <td>0.483523</td>\n",
       "      <td>0.483523</td>\n",
       "      <td>3.531409</td>\n",
       "      <td>0.967046</td>\n",
       "      <td>4.721348</td>\n",
       "    </tr>\n",
       "    <tr>\n",
       "      <th>3</th>\n",
       "      <td>4686</td>\n",
       "      <td>flood_irr</td>\n",
       "      <td>buffer</td>\n",
       "      <td>fenced</td>\n",
       "      <td>flo_buff_fence</td>\n",
       "      <td>alternative</td>\n",
       "      <td>3.61749</td>\n",
       "      <td>3.453700</td>\n",
       "      <td>1.042822</td>\n",
       "      <td>0.460498</td>\n",
       "      <td>0.460498</td>\n",
       "      <td>3.363246</td>\n",
       "      <td>0.920996</td>\n",
       "      <td>4.496522</td>\n",
       "    </tr>\n",
       "    <tr>\n",
       "      <th>4</th>\n",
       "      <td>4686</td>\n",
       "      <td>sprinkler_irr</td>\n",
       "      <td>buff_none</td>\n",
       "      <td>no_fence</td>\n",
       "      <td>spr</td>\n",
       "      <td>alternative</td>\n",
       "      <td>3.61749</td>\n",
       "      <td>6.535846</td>\n",
       "      <td>1.898646</td>\n",
       "      <td>0.829990</td>\n",
       "      <td>0.897717</td>\n",
       "      <td>6.697331</td>\n",
       "      <td>1.727706</td>\n",
       "      <td>8.434491</td>\n",
       "    </tr>\n",
       "  </tbody>\n",
       "</table>\n",
       "</div>"
      ],
      "text/plain": [
       "   fieldID     irrigation     buffer     fence       treatment  \\\n",
       "0     4686      flood_irr  buff_none  no_fence             flo   \n",
       "1     4686      flood_irr  buff_none    fenced       flo_fence   \n",
       "2     4686      flood_irr     buffer  no_fence        flo_buff   \n",
       "3     4686      flood_irr     buffer    fenced  flo_buff_fence   \n",
       "4     4686  sprinkler_irr  buff_none  no_fence             spr   \n",
       "\n",
       "       scenario_type     area   OrganicN       NO3  OrganicP  SolubleP  \\\n",
       "0  current condition  3.61749  16.971480  5.329404  2.262886  2.447538   \n",
       "1        alternative  3.61749   3.591848  1.127916  0.478918  0.517997   \n",
       "2        alternative  3.61749   3.626385  1.094963  0.483523  0.483523   \n",
       "3        alternative  3.61749   3.453700  1.042822  0.460498  0.460498   \n",
       "4        alternative  3.61749   6.535846  1.898646  0.829990  0.897717   \n",
       "\n",
       "    Sediment    TotalP     TotalN  \n",
       "0  16.526993  4.710425  22.300884  \n",
       "1   3.497776  0.996915   4.719764  \n",
       "2   3.531409  0.967046   4.721348  \n",
       "3   3.363246  0.920996   4.496522  \n",
       "4   6.697331  1.727706   8.434491  "
      ]
     },
     "execution_count": 9,
     "metadata": {},
     "output_type": "execute_result"
    }
   ],
   "source": [
    "updf = pd.DataFrame.from_csv('data/eof_totals_2.csv', index_col=None)\n",
    "updf.head()"
   ]
  },
  {
   "cell_type": "code",
   "execution_count": 10,
   "metadata": {
    "collapsed": false,
    "scrolled": false
   },
   "outputs": [
    {
     "data": {
      "image/png": "[encoded data removed]",
      "text/plain": [
       "<matplotlib.figure.Figure at 0x11fd7bf98>"
      ]
     },
     "metadata": {},
     "output_type": "display_data"
    }
   ],
   "source": [
    "# Check for normal distributions, to determine which statistical tests may be used.\n",
    "# Current scenario sediments are very skewed to the right (not a perfectly normal distribution)\n",
    "# Areas are similarly skewed. We will want to log transform these data for some analyses.\n",
    "\n",
    "fig, axs = plt.subplots(1,4,figsize=(17,4))\n",
    "fig.suptitle('Distributions of Field Sizes and Nutrient Values', size=20)\n",
    "\n",
    "axs[0].hist(updf['area'])\n",
    "axs[1].hist(updf['TotalN'])\n",
    "axs[2].hist(updf['TotalP'])\n",
    "axs[3].hist(updf['Sediment'])\n",
    "axs[0].set_xlabel('Field Size (acres)')\n",
    "axs[1].set_xlabel('Total N (lbs/acre/yr)')\n",
    "axs[2].set_xlabel('Total P (lbs/acre/yr)')\n",
    "axs[3].set_xlabel('Sediment (tons/acre/yr)')\n",
    "axs[0].set_ylabel('Frequency')\n",
    "plt.show()"
   ]
  },
  {
   "cell_type": "code",
   "execution_count": 11,
   "metadata": {
    "collapsed": false
   },
   "outputs": [],
   "source": [
    "from numpy.random import seed\n",
    "from numpy.random import randn\n",
    "from numpy import exp\n",
    "from scipy.stats import boxcox\n",
    "from matplotlib import pyplot\n",
    "import math\n",
    "\n",
    "updf_t = updf\n",
    "updf_t['log_area'] = updf[\"area\"].apply(np.log)\n",
    "updf_t['log_sediment'] = updf[\"Sediment\"].apply(np.log)\n",
    "updf_t['log_totalN'] = updf[\"TotalN\"].apply(np.log)\n",
    "updf_t['log_totalP'] = updf[\"TotalP\"].apply(np.log)\n",
    "updf_t=updf_t = updf_t.drop(['scenario_type','area','OrganicN','NO3','OrganicP','SolubleP','Sediment','TotalP','TotalN'], axis=1)"
   ]
  },
  {
   "cell_type": "code",
   "execution_count": 12,
   "metadata": {
    "collapsed": false,
    "scrolled": false
   },
   "outputs": [
    {
     "data": {
      "text/plain": [
       "<matplotlib.collections.PathCollection at 0x12341f2b0>"
      ]
     },
     "execution_count": 12,
     "metadata": {},
     "output_type": "execute_result"
    },
    {
     "data": {
      "image/png": "[encoded data removed]",
      "text/plain": [
       "<matplotlib.figure.Figure at 0x10c0d6e48>"
      ]
     },
     "metadata": {},
     "output_type": "display_data"
    }
   ],
   "source": [
    "# Compare scatterplots for sediment and log-transformed sediment\n",
    "plt.scatter(x=updf['fieldID'],y=updf['Sediment'])"
   ]
  },
  {
   "cell_type": "code",
   "execution_count": 13,
   "metadata": {
    "collapsed": false,
    "scrolled": true
   },
   "outputs": [
    {
     "data": {
      "text/plain": [
       "<matplotlib.collections.PathCollection at 0x1234c4748>"
      ]
     },
     "execution_count": 13,
     "metadata": {},
     "output_type": "execute_result"
    },
    {
     "data": {
      "image/png": "[encoded data removed]",
      "text/plain": [
       "<matplotlib.figure.Figure at 0x12333a3c8>"
      ]
     },
     "metadata": {},
     "output_type": "display_data"
    }
   ],
   "source": [
    "plt.scatter(x=updf_t['fieldID'],y=updf_t['log_sediment'])"
   ]
  },
  {
   "cell_type": "code",
   "execution_count": 14,
   "metadata": {
    "collapsed": false,
    "scrolled": true
   },
   "outputs": [
    {
     "data": {
      "image/png": "[encoded data removed]",
      "text/plain": [
       "<matplotlib.figure.Figure at 0x12345bb38>"
      ]
     },
     "metadata": {},
     "output_type": "display_data"
    }
   ],
   "source": [
    "# Distributions look much more normal after log transformation\n",
    "fig, axs = plt.subplots(1,4,figsize=(17,4))\n",
    "fig.suptitle('Log-Transformed Field Sizes and Nutrient Values', size=20)\n",
    "\n",
    "axs[0].hist(updf_t['log_area'])\n",
    "axs[1].hist(updf_t['log_totalN'])\n",
    "axs[2].hist(updf_t['log_totalP'])\n",
    "axs[3].hist(updf_t['log_sediment'])\n",
    "axs[0].set_xlabel('Field Size (acres)')\n",
    "axs[1].set_xlabel('Total N (lbs/acre/yr)')\n",
    "axs[2].set_xlabel('Total P (lbs/acre/yr)')\n",
    "axs[3].set_xlabel('Sediment (tons/acre/yr)')\n",
    "axs[0].set_ylabel('Frequency')\n",
    "plt.show()"
   ]
  },
  {
   "cell_type": "code",
   "execution_count": 15,
   "metadata": {
    "collapsed": true
   },
   "outputs": [],
   "source": [
    "# Distributions look more normally-distributed; save as new csv file\n",
    "updf_t.to_csv(\"log_eof_totals.csv\", encoding='utf8')"
   ]
  },
  {
   "cell_type": "markdown",
   "metadata": {},
   "source": [
    "### 3. Calculate the “uplift” for total nitrogen, total phosphorus, and sediment by finding the difference between the current condition runoff values and each alternative for each field \n",
    "(i.e., what is the change in runoff under each suite of management actions for every field?). \n",
    "\n",
    "Note: pay attention to units – both “per acre” and “per field” runoff values can be important and insightful, depending on the situation."
   ]
  },
  {
   "cell_type": "code",
   "execution_count": 16,
   "metadata": {
    "collapsed": false
   },
   "outputs": [],
   "source": [
    "import numpy as np\n",
    "import pandas as pd\n",
    "from scipy import stats\n",
    "import seaborn as sns\n",
    "import statsmodels.api as sm\n",
    "import matplotlib.pyplot as plt\n",
    "from scipy.stats import linregress\n",
    "%matplotlib inline"
   ]
  },
  {
   "cell_type": "code",
   "execution_count": 17,
   "metadata": {
    "collapsed": false
   },
   "outputs": [],
   "source": [
    "sdf = pd.DataFrame.from_csv('data/log_sediment.csv', index_col=None)\n",
    "ndf = pd.DataFrame.from_csv('data/log_totaln.csv', index_col=None)\n",
    "pdf = pd.DataFrame.from_csv('data/log_totalp.csv', index_col=None)"
   ]
  },
  {
   "cell_type": "code",
   "execution_count": 18,
   "metadata": {
    "collapsed": false,
    "scrolled": true
   },
   "outputs": [],
   "source": [
    "sdf2 = pd.pivot_table(sdf,index=[\"fieldID\",\"area\"], columns=\"treatment\", values=\"Sediment\", aggfunc='first')\n",
    "ndf2 = pd.pivot_table(ndf,index=[\"fieldID\",\"area\"], columns=\"treatment\", values=\"TotalN\", aggfunc='first')\n",
    "pdf2 = pd.pivot_table(pdf,index=[\"fieldID\",\"area\"], columns=\"treatment\", values=\"TotalP\", aggfunc='first')"
   ]
  },
  {
   "cell_type": "code",
   "execution_count": 19,
   "metadata": {
    "collapsed": false,
    "scrolled": true
   },
   "outputs": [],
   "source": [
    "# Calculate per field uplift for Sediment, TotalN, and TotalP (NOT normalized)\n",
    "# Subtract treatment value from current value, to keep uplift values positive\n",
    "# store values in three \"_df2\" dataframes.\n",
    "\n",
    "sdf2['up_flo_buff']=sdf2['flo']-sdf2['flo_buff']\n",
    "sdf2['up_flo_buff_fence']=sdf2['flo']-sdf2['flo_buff_fence']\n",
    "sdf2['up_flo_fence']=sdf2['flo']-sdf2['flo_fence']\n",
    "sdf2['up_spr']=sdf2['flo']-sdf2['spr']\n",
    "sdf2['up_spr_buff']=sdf2['flo']-sdf2['spr_buff']\n",
    "sdf2['up_spr_buff_fence']=sdf2['flo']-sdf2['spr_buff_fence']\n",
    "sdf2['up_spr_fence']=sdf2['flo']-sdf2['spr_fence']\n",
    "sdf2.drop(sdf2.columns[[0,1,2,3,4,5,6,7]], axis=1, inplace=True)\n",
    "s_up_df=sdf2.reset_index(level='area')\n",
    "# s_up_df.to_csv(\"log_sed_uplift.csv\", encoding='utf8')\n",
    "\n",
    "ndf2['up_flo_buff']=ndf2['flo']-ndf2['flo_buff']\n",
    "ndf2['up_flo_buff_fence']=ndf2['flo']-ndf2['flo_buff_fence']\n",
    "ndf2['up_flo_fence']=ndf2['flo']-ndf2['flo_fence']\n",
    "ndf2['up_spr']=ndf2['flo']-ndf2['spr']\n",
    "ndf2['up_spr_buff']=ndf2['flo']-ndf2['spr_buff']\n",
    "ndf2['up_spr_buff_fence']=ndf2['flo']-ndf2['spr_buff_fence']\n",
    "ndf2['up_spr_fence']=ndf2['flo']-ndf2['spr_fence']\n",
    "ndf2.drop(ndf2.columns[[0,1,2,3,4,5,6,7]], axis=1, inplace=True)\n",
    "n_up_df=ndf2.reset_index(level='area')\n",
    "# n_up_df.to_csv(\"log_n_uplift.csv\", encoding='utf8')\n",
    "\n",
    "pdf2['up_flo_buff']=pdf2['flo']-pdf2['flo_buff']\n",
    "pdf2['up_flo_buff_fence']=pdf2['flo']-pdf2['flo_buff_fence']\n",
    "pdf2['up_flo_fence']=pdf2['flo']-pdf2['flo_fence']\n",
    "pdf2['up_spr']=pdf2['flo']-pdf2['spr']\n",
    "pdf2['up_spr_buff']=pdf2['flo']-pdf2['spr_buff']\n",
    "pdf2['up_spr_buff_fence']=pdf2['flo']-pdf2['spr_buff_fence']\n",
    "pdf2['up_spr_fence']=pdf2['flo']-pdf2['spr_fence']\n",
    "pdf2.drop(pdf2.columns[[0,1,2,3,4,5,6,7]], axis=1, inplace=True)\n",
    "p_up_df=pdf2.reset_index(level='area')\n",
    "# p_up_df.to_csv(\"log_p_uplift.csv\", encoding='utf8')"
   ]
  },
  {
   "cell_type": "code",
   "execution_count": 20,
   "metadata": {
    "collapsed": false,
    "scrolled": true
   },
   "outputs": [
    {
     "data": {
      "text/plain": [
       "<matplotlib.text.Text at 0x12330d358>"
      ]
     },
     "execution_count": 20,
     "metadata": {},
     "output_type": "execute_result"
    },
    {
     "data": {
      "image/png": "[encoded data removed]",
      "text/plain": [
       "<matplotlib.figure.Figure at 0x117622470>"
      ]
     },
     "metadata": {},
     "output_type": "display_data"
    }
   ],
   "source": [
    "# Check if the area of the field has any intrinsic relationship with uplift; \n",
    "# i.e. Does having a bigger field cause less sediment and nutrient runoff? Doesn't look like it.\n",
    "updf2 = pd.DataFrame.from_csv('uplift_all.csv', index_col=None)\n",
    "fig, axs = plt.subplots(ncols=3, figsize=(17, 5), sharey=False)\n",
    "fig.suptitle('Does area intrinsically affect uplift?', size=25)\n",
    "sns.regplot(x=\"area\", y=\"sed_up\", data=updf2, ax=axs[0])\n",
    "sns.regplot(x=\"area\", y=\"N_up\", data=updf2, ax=axs[1])\n",
    "sns.boxplot(x=\"area\", y=\"P_up\", data=updf2, ax=axs[2])\n",
    "axs[0].set_ylabel('Sediment Uplift')\n",
    "axs[1].set_ylabel('N Uplift')\n",
    "axs[2].set_ylabel('P Uplift')"
   ]
  },
  {
   "cell_type": "markdown",
   "metadata": {},
   "source": [
    "### *Check pairwise relationships between all uplift values; find that they all increase together*"
   ]
  },
  {
   "cell_type": "code",
   "execution_count": 62,
   "metadata": {
    "collapsed": true
   },
   "outputs": [],
   "source": [
    "import numpy as np\n",
    "import statsmodels.api as sm\n",
    "import statsmodels.formula.api as smf\n",
    "from statsmodels.regression.linear_model import OLS\n",
    "from statsmodels.tools import add_constant\n",
    "\n",
    "upmoddf = pd.DataFrame.from_csv('uplift_all.csv', index_col=None)"
   ]
  },
  {
   "cell_type": "code",
   "execution_count": 63,
   "metadata": {
    "collapsed": false
   },
   "outputs": [
    {
     "data": {
      "text/plain": [
       "<seaborn.axisgrid.PairGrid at 0x120976358>"
      ]
     },
     "execution_count": 63,
     "metadata": {},
     "output_type": "execute_result"
    },
    {
     "data": {
      "image/png": "[encoded data removed]",
      "text/plain": [
       "<matplotlib.figure.Figure at 0x1206c7518>"
      ]
     },
     "metadata": {},
     "output_type": "display_data"
    }
   ],
   "source": [
    "import seaborn\n",
    "seaborn.pairplot(upmoddf, vars=['sed_up_norm', 'N_up_norm', 'P_up_norm'], kind='reg')"
   ]
  },
  {
   "cell_type": "markdown",
   "metadata": {},
   "source": [
    "### *Performing an ANOVA test on linear models, to better understand how each of the BMP scenarios influence mean sediment uplift*"
   ]
  },
  {
   "cell_type": "code",
   "execution_count": 77,
   "metadata": {
    "collapsed": false
   },
   "outputs": [],
   "source": [
    "model1 = smf.ols(\"sed_up ~ irrigation\", upmoddf).fit()\n",
    "model2 = smf.ols(\"sed_up ~ buffer\", upmoddf).fit()\n",
    "model3 = smf.ols(\"sed_up ~ fence\", upmoddf).fit()\n",
    "model4 = smf.ols(\"sed_up ~ irrigation + buffer\", upmoddf).fit()\n",
    "model5 = smf.ols(\"sed_up ~ irrigation + fence\", upmoddf).fit()\n",
    "model6 = smf.ols(\"sed_up ~ buffer + fence\", upmoddf).fit()\n",
    "model7 = smf.ols(\"sed_up ~ irrigation + buffer + fence\", upmoddf).fit()\n",
    "model8 = smf.ols(\"sed_up ~ irrigation + irrigation*buffer\", upmoddf).fit()\n",
    "model9 = smf.ols(\"sed_up ~ irrigation + irrigation*fence\", upmoddf).fit()\n",
    "model10 = smf.ols(\"sed_up ~ irrigation + irrigation*buffer*fence\", upmoddf).fit() ####\n",
    "model11 = smf.ols(\"sed_up ~ irrigation + buffer*fence\", upmoddf).fit()\n",
    "model12 = smf.ols(\"sed_up ~ buffer + irrigation*buffer\", upmoddf).fit()\n",
    "model13 = smf.ols(\"sed_up ~ buffer + irrigation*fence\", upmoddf).fit()\n",
    "model14 = smf.ols(\"sed_up ~ buffer + irrigation*buffer*fence\", upmoddf).fit() ####\n",
    "model15 = smf.ols(\"sed_up ~ buffer + buffer*fence\", upmoddf).fit()\n",
    "model16 = smf.ols(\"sed_up ~ fence + irrigation*buffer\", upmoddf).fit()\n",
    "model17 = smf.ols(\"sed_up ~ fence + irrigation*fence\", upmoddf).fit()\n",
    "model18 = smf.ols(\"sed_up ~ fence + irrigation*buffer*fence\", upmoddf).fit() ####\n",
    "model19 = smf.ols(\"sed_up ~ fence + buffer*fence\", upmoddf).fit()\n",
    "model20 = smf.ols(\"sed_up ~ irrigation + buffer + fence + irrigation*buffer + irrigation*fence + fence*buffer + irrigation*buffer*fence\", upmoddf).fit() ####\n"
   ]
  },
  {
   "cell_type": "code",
   "execution_count": 78,
   "metadata": {
    "collapsed": false,
    "scrolled": true
   },
   "outputs": [
    {
     "data": {
      "text/html": [
       "<div>\n",
       "<table border=\"1\" class=\"dataframe\">\n",
       "  <thead>\n",
       "    <tr style=\"text-align: right;\">\n",
       "      <th></th>\n",
       "      <th>0</th>\n",
       "      <th>modelnum</th>\n",
       "    </tr>\n",
       "  </thead>\n",
       "  <tbody>\n",
       "    <tr>\n",
       "      <th>9</th>\n",
       "      <td>12530.910635</td>\n",
       "      <td>10</td>\n",
       "    </tr>\n",
       "    <tr>\n",
       "      <th>17</th>\n",
       "      <td>12530.910635</td>\n",
       "      <td>18</td>\n",
       "    </tr>\n",
       "    <tr>\n",
       "      <th>13</th>\n",
       "      <td>12530.910635</td>\n",
       "      <td>14</td>\n",
       "    </tr>\n",
       "    <tr>\n",
       "      <th>19</th>\n",
       "      <td>12530.910635</td>\n",
       "      <td>20</td>\n",
       "    </tr>\n",
       "    <tr>\n",
       "      <th>10</th>\n",
       "      <td>12591.186531</td>\n",
       "      <td>11</td>\n",
       "    </tr>\n",
       "    <tr>\n",
       "      <th>18</th>\n",
       "      <td>12591.581707</td>\n",
       "      <td>19</td>\n",
       "    </tr>\n",
       "    <tr>\n",
       "      <th>14</th>\n",
       "      <td>12591.581707</td>\n",
       "      <td>15</td>\n",
       "    </tr>\n",
       "    <tr>\n",
       "      <th>15</th>\n",
       "      <td>12594.004977</td>\n",
       "      <td>16</td>\n",
       "    </tr>\n",
       "    <tr>\n",
       "      <th>12</th>\n",
       "      <td>12594.066875</td>\n",
       "      <td>13</td>\n",
       "    </tr>\n",
       "    <tr>\n",
       "      <th>6</th>\n",
       "      <td>12613.169498</td>\n",
       "      <td>7</td>\n",
       "    </tr>\n",
       "    <tr>\n",
       "      <th>5</th>\n",
       "      <td>12613.495608</td>\n",
       "      <td>6</td>\n",
       "    </tr>\n",
       "    <tr>\n",
       "      <th>8</th>\n",
       "      <td>12618.664283</td>\n",
       "      <td>9</td>\n",
       "    </tr>\n",
       "    <tr>\n",
       "      <th>16</th>\n",
       "      <td>12618.664283</td>\n",
       "      <td>17</td>\n",
       "    </tr>\n",
       "    <tr>\n",
       "      <th>7</th>\n",
       "      <td>12619.195827</td>\n",
       "      <td>8</td>\n",
       "    </tr>\n",
       "    <tr>\n",
       "      <th>11</th>\n",
       "      <td>12619.195827</td>\n",
       "      <td>12</td>\n",
       "    </tr>\n",
       "    <tr>\n",
       "      <th>4</th>\n",
       "      <td>12637.367074</td>\n",
       "      <td>5</td>\n",
       "    </tr>\n",
       "    <tr>\n",
       "      <th>2</th>\n",
       "      <td>12637.618978</td>\n",
       "      <td>3</td>\n",
       "    </tr>\n",
       "    <tr>\n",
       "      <th>3</th>\n",
       "      <td>12637.950586</td>\n",
       "      <td>4</td>\n",
       "    </tr>\n",
       "    <tr>\n",
       "      <th>1</th>\n",
       "      <td>12638.200852</td>\n",
       "      <td>2</td>\n",
       "    </tr>\n",
       "    <tr>\n",
       "      <th>0</th>\n",
       "      <td>12661.692119</td>\n",
       "      <td>1</td>\n",
       "    </tr>\n",
       "  </tbody>\n",
       "</table>\n",
       "</div>"
      ],
      "text/plain": [
       "               0  modelnum\n",
       "9   12530.910635        10\n",
       "17  12530.910635        18\n",
       "13  12530.910635        14\n",
       "19  12530.910635        20\n",
       "10  12591.186531        11\n",
       "18  12591.581707        19\n",
       "14  12591.581707        15\n",
       "15  12594.004977        16\n",
       "12  12594.066875        13\n",
       "6   12613.169498         7\n",
       "5   12613.495608         6\n",
       "8   12618.664283         9\n",
       "16  12618.664283        17\n",
       "7   12619.195827         8\n",
       "11  12619.195827        12\n",
       "4   12637.367074         5\n",
       "2   12637.618978         3\n",
       "3   12637.950586         4\n",
       "1   12638.200852         2\n",
       "0   12661.692119         1"
      ]
     },
     "execution_count": 78,
     "metadata": {},
     "output_type": "execute_result"
    }
   ],
   "source": [
    "aiclist=[model1.aic, model2.aic, model3.aic, model4.aic, model5.aic, model6.aic, model7.aic, model8.aic, \n",
    "         model9.aic, model10.aic, model11.aic, model12.aic, model13.aic, model14.aic, model15.aic, model16.aic, \n",
    "         model17.aic, model18.aic, model19.aic, model20.aic]\n",
    "\n",
    "modsdf = pd.DataFrame(aiclist)\n",
    "modindex = list(range(1,21))\n",
    "modsdf['modelnum'] = modindex\n",
    "modsdf.sort_values(by=[0])"
   ]
  },
  {
   "cell_type": "markdown",
   "metadata": {},
   "source": [
    "### All of the best models factor in the interactions between the three BMP's: sprinkler irrigation, an edge-of-field buffer, and/or a livestock exclusion fence\n",
    "\n",
    "#### With p < 0.00001, we can be confident that there is a significant difference in the mean sediment runoff of the different treatments. Less than 1% of the variation in runoff can be explained by this model, so the fit is super crappy. Basically none of these models are a good fit for our data. Perhaps this is because we need to collect more data and measure more factors?"
   ]
  },
  {
   "cell_type": "code",
   "execution_count": 79,
   "metadata": {
    "collapsed": false
   },
   "outputs": [
    {
     "data": {
      "text/html": [
       "<table class=\"simpletable\">\n",
       "<caption>OLS Regression Results</caption>\n",
       "<tr>\n",
       "  <th>Dep. Variable:</th>         <td>sed_up</td>      <th>  R-squared:         </th> <td>   0.096</td> \n",
       "</tr>\n",
       "<tr>\n",
       "  <th>Model:</th>                   <td>OLS</td>       <th>  Adj. R-squared:    </th> <td>   0.090</td> \n",
       "</tr>\n",
       "<tr>\n",
       "  <th>Method:</th>             <td>Least Squares</td>  <th>  F-statistic:       </th> <td>   14.52</td> \n",
       "</tr>\n",
       "<tr>\n",
       "  <th>Date:</th>             <td>Mon, 24 Jun 2019</td> <th>  Prob (F-statistic):</th> <td>5.30e-27</td> \n",
       "</tr>\n",
       "<tr>\n",
       "  <th>Time:</th>                 <td>00:23:56</td>     <th>  Log-Likelihood:    </th> <td> -6253.5</td> \n",
       "</tr>\n",
       "<tr>\n",
       "  <th>No. Observations:</th>      <td>  1512</td>      <th>  AIC:               </th> <td>1.253e+04</td>\n",
       "</tr>\n",
       "<tr>\n",
       "  <th>Df Residuals:</th>          <td>  1500</td>      <th>  BIC:               </th> <td>1.259e+04</td>\n",
       "</tr>\n",
       "<tr>\n",
       "  <th>Df Model:</th>              <td>    11</td>      <th>                     </th>     <td> </td>    \n",
       "</tr>\n",
       "<tr>\n",
       "  <th>Covariance Type:</th>      <td>nonrobust</td>    <th>                     </th>     <td> </td>    \n",
       "</tr>\n",
       "</table>\n",
       "<table class=\"simpletable\">\n",
       "<tr>\n",
       "                                 <td></td>                                   <th>coef</th>     <th>std err</th>      <th>t</th>      <th>P>|t|</th> <th>[95.0% Conf. Int.]</th> \n",
       "</tr>\n",
       "<tr>\n",
       "  <th>Intercept</th>                                                      <td>    0.8731</td> <td>   10.744</td> <td>    0.081</td> <td> 0.935</td> <td>  -20.202    21.948</td>\n",
       "</tr>\n",
       "<tr>\n",
       "  <th>irrigation[T.flood_irr]</th>                                        <td>   14.8133</td> <td>   10.801</td> <td>    1.371</td> <td> 0.170</td> <td>   -6.373    36.000</td>\n",
       "</tr>\n",
       "<tr>\n",
       "  <th>irrigation[T.sprinkler_irr]</th>                                    <td>   11.3683</td> <td>   10.801</td> <td>    1.053</td> <td> 0.293</td> <td>   -9.818    32.555</td>\n",
       "</tr>\n",
       "<tr>\n",
       "  <th>buffer[T.buffer]</th>                                               <td>    0.0667</td> <td>   15.194</td> <td>    0.004</td> <td> 0.996</td> <td>  -29.738    29.871</td>\n",
       "</tr>\n",
       "<tr>\n",
       "  <th>fence[T.no_fence]</th>                                              <td>   -0.0867</td> <td>   15.194</td> <td>   -0.006</td> <td> 0.995</td> <td>  -29.891    29.718</td>\n",
       "</tr>\n",
       "<tr>\n",
       "  <th>irrigation[T.flood_irr]:buffer[T.buffer]</th>                       <td>    0.0974</td> <td>   15.275</td> <td>    0.006</td> <td> 0.995</td> <td>  -29.865    30.060</td>\n",
       "</tr>\n",
       "<tr>\n",
       "  <th>irrigation[T.sprinkler_irr]:buffer[T.buffer]</th>                   <td>    0.1931</td> <td>   15.275</td> <td>    0.013</td> <td> 0.990</td> <td>  -29.770    30.156</td>\n",
       "</tr>\n",
       "<tr>\n",
       "  <th>irrigation[T.flood_irr]:fence[T.no_fence]</th>                      <td>  -15.7987</td> <td>   15.275</td> <td>   -1.034</td> <td> 0.301</td> <td>  -45.761    14.164</td>\n",
       "</tr>\n",
       "<tr>\n",
       "  <th>irrigation[T.sprinkler_irr]:fence[T.no_fence]</th>                  <td>   -0.3070</td> <td>   15.275</td> <td>   -0.020</td> <td> 0.984</td> <td>  -30.270    29.656</td>\n",
       "</tr>\n",
       "<tr>\n",
       "  <th>fence[T.no_fence]:buffer[T.buffer]</th>                             <td>    0.0033</td> <td>   21.488</td> <td>    0.000</td> <td> 1.000</td> <td>  -42.147    42.153</td>\n",
       "</tr>\n",
       "<tr>\n",
       "  <th>irrigation[T.flood_irr]:buffer[T.buffer]:fence[T.no_fence]</th>     <td>   15.6770</td> <td>   21.602</td> <td>    0.726</td> <td> 0.468</td> <td>  -26.697    58.051</td>\n",
       "</tr>\n",
       "<tr>\n",
       "  <th>irrigation[T.sprinkler_irr]:buffer[T.buffer]:fence[T.no_fence]</th> <td>    0.0789</td> <td>   21.602</td> <td>    0.004</td> <td> 0.997</td> <td>  -42.295    42.453</td>\n",
       "</tr>\n",
       "</table>\n",
       "<table class=\"simpletable\">\n",
       "<tr>\n",
       "  <th>Omnibus:</th>       <td>1072.382</td> <th>  Durbin-Watson:     </th> <td>   0.305</td> \n",
       "</tr>\n",
       "<tr>\n",
       "  <th>Prob(Omnibus):</th>  <td> 0.000</td>  <th>  Jarque-Bera (JB):  </th> <td>16041.585</td>\n",
       "</tr>\n",
       "<tr>\n",
       "  <th>Skew:</th>           <td> 3.206</td>  <th>  Prob(JB):          </th> <td>    0.00</td> \n",
       "</tr>\n",
       "<tr>\n",
       "  <th>Kurtosis:</th>       <td>17.613</td>  <th>  Cond. No.          </th> <td>    200.</td> \n",
       "</tr>\n",
       "</table>"
      ],
      "text/plain": [
       "<class 'statsmodels.iolib.summary.Summary'>\n",
       "\"\"\"\n",
       "                            OLS Regression Results                            \n",
       "==============================================================================\n",
       "Dep. Variable:                 sed_up   R-squared:                       0.096\n",
       "Model:                            OLS   Adj. R-squared:                  0.090\n",
       "Method:                 Least Squares   F-statistic:                     14.52\n",
       "Date:                Mon, 24 Jun 2019   Prob (F-statistic):           5.30e-27\n",
       "Time:                        00:23:56   Log-Likelihood:                -6253.5\n",
       "No. Observations:                1512   AIC:                         1.253e+04\n",
       "Df Residuals:                    1500   BIC:                         1.259e+04\n",
       "Df Model:                          11                                         \n",
       "Covariance Type:            nonrobust                                         \n",
       "==================================================================================================================================\n",
       "                                                                     coef    std err          t      P>|t|      [95.0% Conf. Int.]\n",
       "----------------------------------------------------------------------------------------------------------------------------------\n",
       "Intercept                                                          0.8731     10.744      0.081      0.935       -20.202    21.948\n",
       "irrigation[T.flood_irr]                                           14.8133     10.801      1.371      0.170        -6.373    36.000\n",
       "irrigation[T.sprinkler_irr]                                       11.3683     10.801      1.053      0.293        -9.818    32.555\n",
       "buffer[T.buffer]                                                   0.0667     15.194      0.004      0.996       -29.738    29.871\n",
       "fence[T.no_fence]                                                 -0.0867     15.194     -0.006      0.995       -29.891    29.718\n",
       "irrigation[T.flood_irr]:buffer[T.buffer]                           0.0974     15.275      0.006      0.995       -29.865    30.060\n",
       "irrigation[T.sprinkler_irr]:buffer[T.buffer]                       0.1931     15.275      0.013      0.990       -29.770    30.156\n",
       "irrigation[T.flood_irr]:fence[T.no_fence]                        -15.7987     15.275     -1.034      0.301       -45.761    14.164\n",
       "irrigation[T.sprinkler_irr]:fence[T.no_fence]                     -0.3070     15.275     -0.020      0.984       -30.270    29.656\n",
       "fence[T.no_fence]:buffer[T.buffer]                                 0.0033     21.488      0.000      1.000       -42.147    42.153\n",
       "irrigation[T.flood_irr]:buffer[T.buffer]:fence[T.no_fence]        15.6770     21.602      0.726      0.468       -26.697    58.051\n",
       "irrigation[T.sprinkler_irr]:buffer[T.buffer]:fence[T.no_fence]     0.0789     21.602      0.004      0.997       -42.295    42.453\n",
       "==============================================================================\n",
       "Omnibus:                     1072.382   Durbin-Watson:                   0.305\n",
       "Prob(Omnibus):                  0.000   Jarque-Bera (JB):            16041.585\n",
       "Skew:                           3.206   Prob(JB):                         0.00\n",
       "Kurtosis:                      17.613   Cond. No.                         200.\n",
       "==============================================================================\n",
       "\n",
       "Warnings:\n",
       "[1] Standard Errors assume that the covariance matrix of the errors is correctly specified.\n",
       "\"\"\""
      ]
     },
     "execution_count": 79,
     "metadata": {},
     "output_type": "execute_result"
    }
   ],
   "source": [
    "# Summary statistics for one of the best-fit models\n",
    "model20.summary()"
   ]
  },
  {
   "cell_type": "code",
   "execution_count": 69,
   "metadata": {
    "collapsed": false,
    "scrolled": false
   },
   "outputs": [
    {
     "name": "stdout",
     "output_type": "stream",
     "text": [
      "                                sum_sq      df             F        PR(>F)\n",
      "Intercept                     1.524691     1.0  6.604095e-03  9.352416e-01\n",
      "irrigation                 1456.528446     2.0  3.154426e+00  4.294604e-02\n",
      "buffer                        0.004445     1.0  1.925199e-05  9.964997e-01\n",
      "fence                         0.007512     1.0  3.253586e-05  9.954496e-01\n",
      "irrigation:buffer             0.451759     2.0  9.783817e-04  9.990221e-01\n",
      "irrigation:fence          11344.195615     2.0  2.456830e+01  3.170728e-11\n",
      "buffer:fence                  0.000006     1.0  2.406499e-08  9.998762e-01\n",
      "irrigation:buffer:fence    5748.414533     2.0  1.244943e+01  4.341750e-06\n",
      "Residual                 346305.905520  1500.0           NaN           NaN\n",
      "                                sum_sq      df             F        PR(>F)\n",
      "Intercept                     1.524691     1.0  6.604095e-03  9.352416e-01\n",
      "buffer                        0.004445     1.0  1.925199e-05  9.964997e-01\n",
      "irrigation                 1456.528446     2.0  3.154426e+00  4.294604e-02\n",
      "fence                         0.007512     1.0  3.253586e-05  9.954496e-01\n",
      "irrigation:buffer             0.451759     2.0  9.783817e-04  9.990221e-01\n",
      "irrigation:fence          11344.195615     2.0  2.456830e+01  3.170728e-11\n",
      "buffer:fence                  0.000006     1.0  2.406499e-08  9.998762e-01\n",
      "irrigation:buffer:fence    5748.414533     2.0  1.244943e+01  4.341750e-06\n",
      "Residual                 346305.905520  1500.0           NaN           NaN\n",
      "                                sum_sq      df             F        PR(>F)\n",
      "Intercept                     1.524691     1.0  6.604095e-03  9.352416e-01\n",
      "fence                         0.007512     1.0  3.253586e-05  9.954496e-01\n",
      "irrigation                 1456.528446     2.0  3.154426e+00  4.294604e-02\n",
      "buffer                        0.004445     1.0  1.925199e-05  9.964997e-01\n",
      "irrigation:buffer             0.451759     2.0  9.783817e-04  9.990221e-01\n",
      "irrigation:fence          11344.195615     2.0  2.456830e+01  3.170728e-11\n",
      "buffer:fence                  0.000006     1.0  2.406499e-08  9.998762e-01\n",
      "irrigation:buffer:fence    5748.414533     2.0  1.244943e+01  4.341750e-06\n",
      "Residual                 346305.905520  1500.0           NaN           NaN\n",
      "                                sum_sq      df             F        PR(>F)\n",
      "Intercept                     1.524691     1.0  6.604095e-03  9.352416e-01\n",
      "irrigation                 1456.528446     2.0  3.154426e+00  4.294604e-02\n",
      "buffer                        0.004445     1.0  1.925199e-05  9.964997e-01\n",
      "fence                         0.007512     1.0  3.253586e-05  9.954496e-01\n",
      "irrigation:buffer             0.451759     2.0  9.783817e-04  9.990221e-01\n",
      "irrigation:fence          11344.195615     2.0  2.456830e+01  3.170728e-11\n",
      "buffer:fence                  0.000006     1.0  2.406499e-08  9.998762e-01\n",
      "irrigation:buffer:fence    5748.414533     2.0  1.244943e+01  4.341750e-06\n",
      "Residual                 346305.905520  1500.0           NaN           NaN\n"
     ]
    }
   ],
   "source": [
    "# Type 2 ANOVA\n",
    "aov = sm.stats.anova_lm(model10, typ=3)\n",
    "print(aov)\n",
    "aov = sm.stats.anova_lm(model14, typ=3)\n",
    "print(aov)\n",
    "aov = sm.stats.anova_lm(model18, typ=3)\n",
    "print(aov)\n",
    "aov = sm.stats.anova_lm(model20, typ=3)\n",
    "print(aov)"
   ]
  },
  {
   "cell_type": "markdown",
   "metadata": {},
   "source": [
    "### *There is a statistically significant difference between sediment runoffs from flood-irrigated and sprinkler-irrigated fields (without buffers or fences)*"
   ]
  },
  {
   "cell_type": "code",
   "execution_count": 21,
   "metadata": {
    "collapsed": false
   },
   "outputs": [],
   "source": [
    "# Calculate mean sediment, N, and P uplift for all flood-irrigated fields and sprinkler-irrigated fields combined.\n",
    "# Store these normalized-by-area values in three \"x_irr_df\" dataframes\n",
    "\n",
    "sed_irr_df=s_up_df\n",
    "sed_irr_df['up_mean_flo'] = (sed_irr_df[['up_flo_buff','up_flo_buff_fence','up_flo_fence']].mean(axis=1))/ s_up_df['area']\n",
    "sed_irr_df['up_mean_spr'] = (sed_irr_df[['up_spr','up_spr_buff','up_spr_buff_fence','up_spr_fence']].mean(axis=1))/ s_up_df['area']\n",
    "\n",
    "n_irr_df=n_up_df\n",
    "n_irr_df['up_mean_flo'] = (n_irr_df[['up_flo_buff','up_flo_buff_fence','up_flo_fence']].mean(axis=1))/ n_up_df['area']\n",
    "n_irr_df['up_mean_spr'] = (n_irr_df[['up_spr','up_spr_buff','up_spr_buff_fence','up_spr_fence']].mean(axis=1))/ n_up_df['area']\n",
    "\n",
    "p_irr_df=p_up_df\n",
    "p_irr_df['up_mean_flo'] = (p_irr_df[['up_flo_buff','up_flo_buff_fence','up_flo_fence']].mean(axis=1))/ p_up_df['area']\n",
    "p_irr_df['up_mean_spr'] = (p_irr_df[['up_spr','up_spr_buff','up_spr_buff_fence','up_spr_fence']].mean(axis=1))/ p_up_df['area']"
   ]
  },
  {
   "cell_type": "code",
   "execution_count": 61,
   "metadata": {
    "collapsed": false,
    "scrolled": true
   },
   "outputs": [],
   "source": [
    "alldf = pd.DataFrame.from_csv('data/eof_totals_2_norm.csv', index_col=None)\n",
    "flood = alldf[alldf['treatment']=='flo']\n",
    "sprinkler = alldf[alldf['treatment']=='spr']"
   ]
  },
  {
   "cell_type": "code",
   "execution_count": 28,
   "metadata": {
    "collapsed": false
   },
   "outputs": [
    {
     "name": "stdout",
     "output_type": "stream",
     "text": [
      "mean Sediment runoff for flood-irrigated fields (no buffer or fence):  3.8415622361914874\n",
      "mean Sediment runoff for sprinkler-irrigated fields:  1.5446339416223407\n",
      "Ttest_relResult(statistic=9.4847902960601562, pvalue=1.1375759029237392e-17)\n"
     ]
    }
   ],
   "source": [
    "# Paired t-test to compare mean sediment runoff from flood-irrigated fields and sprinkler-irrigated fields\n",
    "print(\"mean Sediment runoff for flood-irrigated fields (no buffer or fence): \", np.mean(flood['sed_norm']))\n",
    "print(\"mean Sediment runoff for sprinkler-irrigated fields: \", np.mean(sprinkler['sed_norm']))\n",
    "print(stats.ttest_rel(flood['sed_norm'], sprinkler['sed_norm']))"
   ]
  },
  {
   "cell_type": "code",
   "execution_count": 29,
   "metadata": {
    "collapsed": false
   },
   "outputs": [
    {
     "name": "stdout",
     "output_type": "stream",
     "text": [
      "mean Sediment runoff for flood-irrigated fields (no buffer or fence):  5.513087553085104\n",
      "mean Sediment runoff for sprinkler-irrigated fields:  1.3743583802925534\n",
      "Ttest_relResult(statistic=13.120068638596369, pvalue=2.6492736010217825e-28)\n"
     ]
    }
   ],
   "source": [
    "# Paired t-test to compare mean N runoff from flood-irrigated fields and sprinkler-irrigated fields\n",
    "print(\"mean Sediment runoff for flood-irrigated fields (no buffer or fence): \", np.mean(flood['N_norm']))\n",
    "print(\"mean Sediment runoff for sprinkler-irrigated fields: \", np.mean(sprinkler['N_norm']))\n",
    "print(stats.ttest_rel(flood['N_norm'], sprinkler['N_norm']))"
   ]
  },
  {
   "cell_type": "code",
   "execution_count": 30,
   "metadata": {
    "collapsed": false
   },
   "outputs": [
    {
     "name": "stdout",
     "output_type": "stream",
     "text": [
      "mean Sediment runoff for flood-irrigated fields (no buffer or fence):  1.0176579251595748\n",
      "mean Sediment runoff for sprinkler-irrigated fields:  0.3696036306755319\n",
      "Ttest_relResult(statistic=10.084322900088397, pvalue=2.2604901435817742e-19)\n"
     ]
    }
   ],
   "source": [
    "# Paired t-test to compare mean P runoff from flood-irrigated fields and sprinkler-irrigated fields\n",
    "print(\"mean Sediment runoff for flood-irrigated fields (no buffer or fence): \", np.mean(flood['P_norm']))\n",
    "print(\"mean Sediment runoff for sprinkler-irrigated fields: \", np.mean(sprinkler['P_norm']))\n",
    "print(stats.ttest_rel(flood['P_norm'], sprinkler['P_norm']))"
   ]
  },
  {
   "cell_type": "code",
   "execution_count": 35,
   "metadata": {
    "collapsed": false
   },
   "outputs": [
    {
     "data": {
      "text/plain": [
       "<matplotlib.legend.Legend at 0x11fdd4940>"
      ]
     },
     "execution_count": 35,
     "metadata": {},
     "output_type": "execute_result"
    },
    {
     "data": {
      "image/png": "[encoded data removed]",
      "text/plain": [
       "<matplotlib.figure.Figure at 0x124ca9438>"
      ]
     },
     "metadata": {},
     "output_type": "display_data"
    }
   ],
   "source": [
    "# Plot the pre-transformed per-acre data in barplots with std error bars\n",
    "alldf = pd.DataFrame.from_csv('data/eof_totals_2_norm.csv', index_col=None)\n",
    "flood = alldf[alldf['treatment']=='flo']\n",
    "sprinkler = alldf[alldf['treatment']=='spr']\n",
    "\n",
    "labels = ['Sediment', 'Total N','Total P']\n",
    "\n",
    "flood_sed_mean = np.mean(flood.sed_norm)\n",
    "flood_sed_sem = stats.sem(flood.sed_norm)\n",
    "flood_N_mean = np.mean(flood.N_norm)\n",
    "flood_N_sem = stats.sem(flood.N_norm)\n",
    "flood_P_mean = np.mean(flood.P_norm)\n",
    "flood_P_sem = stats.sem(flood.P_norm)\n",
    "sprinkler_sed_mean = np.mean(sprinkler.sed_norm)\n",
    "sprinkler_sed_sem = stats.sem(sprinkler.sed_norm)\n",
    "sprinkler_N_mean = np.mean(sprinkler.N_norm)\n",
    "sprinkler_N_sem = stats.sem(sprinkler.N_norm)\n",
    "sprinkler_P_mean = np.mean(sprinkler.P_norm)\n",
    "sprinkler_P_sem = stats.sem(sprinkler.P_norm)\n",
    "\n",
    "flood_means, flood_ste = (flood_sed_mean, flood_N_mean, flood_P_mean), (flood_sed_sem, flood_N_sem, flood_P_sem)\n",
    "spr_means, spr_ste = (sprinkler_sed_mean, sprinkler_N_mean, sprinkler_P_mean), (sprinkler_sed_sem, sprinkler_N_sem, sprinkler_P_sem)\n",
    "\n",
    "ind = np.arange(len(flood_means))\n",
    "width = 0.35 \n",
    "\n",
    "fig, ax = plt.subplots(figsize=(15, 7))\n",
    "rects1 = ax.bar(ind - width/2, flood_means, width, yerr=flood_ste, align='center',alpha=0.5,\n",
    "                label='Flood', color='g',error_kw=dict(ecolor='black', lw=2, capsize=5, capthick=2))\n",
    "rects2 = ax.bar(ind + width/2, spr_means, width, yerr=spr_ste, align='center', alpha=0.5,\n",
    "                label='Sprinkler', color='b', error_kw=dict(ecolor='black', lw=2, capsize=5, capthick=2))\n",
    "\n",
    "ax.set_ylabel('Runoff', size=20)\n",
    "ax.set_title('Sediment and Nutrient Runoff for Sprinkler vs. Flood Irrigated Fields', size=24)\n",
    "ax.set_xticks(ind)\n",
    "ax.set_xticklabels(labels)\n",
    "ax.set_ylim(0,7)\n",
    "ax.tick_params(axis='both', which='major', labelsize=18)\n",
    "ax.legend(prop={'size': 20})"
   ]
  },
  {
   "cell_type": "markdown",
   "metadata": {},
   "source": [
    "### *The barplot above illustrates the drastic difference in runoff between flood- and sprinkler-irrigated plots.*"
   ]
  },
  {
   "cell_type": "code",
   "execution_count": 51,
   "metadata": {
    "collapsed": false
   },
   "outputs": [],
   "source": [
    "sdf = pd.DataFrame.from_csv('data/uplift_sed_norm.csv', index_col=None)\n",
    "ndf = pd.DataFrame.from_csv('data/uplift_N_norm.csv', index_col=None)\n",
    "pdf = pd.DataFrame.from_csv('data/uplift_P_norm.csv', index_col=None)"
   ]
  },
  {
   "cell_type": "code",
   "execution_count": 52,
   "metadata": {
    "collapsed": false
   },
   "outputs": [],
   "source": [
    "sdf2 = pd.pivot_table(sdf,index=[\"fieldID\",\"area\"], columns=\"treatment\", values=\"sed_up_norm\", aggfunc='first')\n",
    "ndf2 = pd.pivot_table(ndf,index=[\"fieldID\",\"area\"], columns=\"treatment\", values=\"N_up_norm\", aggfunc='first')\n",
    "pdf2 = pd.pivot_table(pdf,index=[\"fieldID\",\"area\"], columns=\"treatment\", values=\"P_up_norm\", aggfunc='first')"
   ]
  },
  {
   "cell_type": "code",
   "execution_count": 53,
   "metadata": {
    "collapsed": false
   },
   "outputs": [],
   "source": [
    "# Uplift has already been calculated; just need to drop the nonapplicable columns\n",
    "# These \"x_up_df\" dataframes list uplift values per field (i.e. not per acre)\n",
    "\n",
    "sdf2.drop(sdf2.columns[[0,1,2,3]], axis=1, inplace=True)\n",
    "s_up_df=sdf2.reset_index(level='area')\n",
    "# s_up_df.to_csv(\"uplift_sed_pivot.csv\", encoding='utf8')\n",
    "\n",
    "ndf2.drop(ndf2.columns[[0,1,2,3]], axis=1, inplace=True)\n",
    "n_up_df=ndf2.reset_index(level='area')\n",
    "# n_up_df.to_csv(\"uplift_n_pivot.csv\", encoding='utf8')\n",
    "\n",
    "pdf2.drop(pdf2.columns[[0,1,2,3]], axis=1, inplace=True)\n",
    "p_up_df=pdf2.reset_index(level='area')\n",
    "# p_up_df.to_csv(\"uplift_p_pivot.csv\", encoding='utf8')"
   ]
  },
  {
   "cell_type": "code",
   "execution_count": 54,
   "metadata": {
    "collapsed": false,
    "scrolled": true
   },
   "outputs": [],
   "source": [
    "# These \"xdf_up_norm\" dataframes include uplift values, normalized by dividing by area\n",
    "sdf_up_norm = s_up_df.iloc[:,1:].div(s_up_df.area, axis=0)\n",
    "ndf_up_norm = n_up_df.iloc[:,1:].div(n_up_df.area, axis=0)\n",
    "pdf_up_norm = s_up_df.iloc[:,1:].div(s_up_df.area, axis=0)"
   ]
  },
  {
   "cell_type": "markdown",
   "metadata": {},
   "source": [
    "### *The following 3 boxplots indicate that there is not a statistically significant difference between BMP's, beyond switching from flood irrigation to sprinkler irrigation*"
   ]
  },
  {
   "cell_type": "code",
   "execution_count": 55,
   "metadata": {
    "collapsed": false,
    "scrolled": true
   },
   "outputs": [
    {
     "data": {
      "image/png": "[encoded data removed]",
      "text/plain": [
       "<matplotlib.figure.Figure at 0x120415668>"
      ]
     },
     "metadata": {},
     "output_type": "display_data"
    }
   ],
   "source": [
    "# Sediment uplift by treatment\n",
    "sd_box = sdf_up_norm.plot.box(vert=False).set_xlim([-1,3])"
   ]
  },
  {
   "cell_type": "code",
   "execution_count": 46,
   "metadata": {
    "collapsed": false
   },
   "outputs": [
    {
     "data": {
      "image/png": "[encoded data removed]",
      "text/plain": [
       "<matplotlib.figure.Figure at 0x124cb0e80>"
      ]
     },
     "metadata": {},
     "output_type": "display_data"
    }
   ],
   "source": [
    "n_box = ndf_up_norm.plot.box(vert=False).set_xlim([-2,5])"
   ]
  },
  {
   "cell_type": "code",
   "execution_count": 47,
   "metadata": {
    "collapsed": false,
    "scrolled": true
   },
   "outputs": [
    {
     "data": {
      "image/png": "[encoded data removed]",
      "text/plain": [
       "<matplotlib.figure.Figure at 0x1209192b0>"
      ]
     },
     "metadata": {},
     "output_type": "display_data"
    }
   ],
   "source": [
    "sd_box = pdf_up_norm.plot.box(vert=False).set_xlim([-1,2.5])"
   ]
  },
  {
   "cell_type": "code",
   "execution_count": null,
   "metadata": {
    "collapsed": false
   },
   "outputs": [],
   "source": []
  },
  {
   "cell_type": "code",
   "execution_count": null,
   "metadata": {
    "collapsed": true
   },
   "outputs": [],
   "source": []
  },
  {
   "cell_type": "code",
   "execution_count": null,
   "metadata": {
    "collapsed": true
   },
   "outputs": [],
   "source": []
  },
  {
   "cell_type": "code",
   "execution_count": null,
   "metadata": {
    "collapsed": true
   },
   "outputs": [],
   "source": []
  },
  {
   "cell_type": "code",
   "execution_count": null,
   "metadata": {
    "collapsed": true
   },
   "outputs": [],
   "source": []
  },
  {
   "cell_type": "code",
   "execution_count": null,
   "metadata": {
    "collapsed": true
   },
   "outputs": [],
   "source": []
  },
  {
   "cell_type": "code",
   "execution_count": null,
   "metadata": {
    "collapsed": true
   },
   "outputs": [],
   "source": []
  },
  {
   "cell_type": "code",
   "execution_count": null,
   "metadata": {
    "collapsed": true
   },
   "outputs": [],
   "source": []
  },
  {
   "cell_type": "code",
   "execution_count": null,
   "metadata": {
    "collapsed": true
   },
   "outputs": [],
   "source": []
  },
  {
   "cell_type": "code",
   "execution_count": null,
   "metadata": {
    "collapsed": true
   },
   "outputs": [],
   "source": []
  },
  {
   "cell_type": "markdown",
   "metadata": {},
   "source": [
    "### 4. Show your findings (assume your target audience is other TFT analysts)."
   ]
  },
  {
   "cell_type": "raw",
   "metadata": {},
   "source": [
    "https://www.epa.gov/sites/production/files/2018-08/documents/loadreductionmodels2018.pdf\n",
    "\n",
    "Units for nutrient loads: lbs per acre per year\n",
    "\n",
    "uncertainty\n",
    "\n",
    "###\"assumptions, conceptualizations, and implementation constraints. What specific systems are being modeled? What data are inputs into the model? Over what domain and at what scale is the model designed to provide outputs? What assumptions are used in the design of the model and in the scenarios being modeled? If there are competing models, how do they differ? What sources of uncertainty exist in the model, and how is uncertainty handled in the model outputs?\n",
    "\n",
    "###What is the time frame here (monthly or annually)? Do the nutrient outputs change linearly with time? Or, was the model used similar to the Chesapeake Bay Program Phase 6 Watershed Model, in that the scenarios are time-averaged (and the temporal component is not normally considered for this management need).\n",
    "\n",
    "###Here, I'm making the assumption that the model has been \"ground-truthed\", to compare model predictions with observed data. I'm assuming that we are in the step after the model has been built (or selected), fitted, and then validated possibly via ground-truthing, and we are using the model to compare uplifts (i.e. load reductions) from different single or multiple-set best management practices (BMP's). We're at the step where we want to plot the results so that people can easily visualize the differences\n",
    "\n",
    "Obviously, as the exercise instructions state that this was intended to be a mock dataset, I am pretending that these data were taken from the real world (not generated by a model), and I still want to do some EDA and before attempting to build or select my own model of the data, fit it to a particular set of conditions, and validate it. If I were trying to go the build-my-own-model route, I'd also keep in mind that these data are likely not enough to generate a model that could be employed in practical situations. There are many other variables missing, such as _________________. The only model that I could build using these data would be quite simplified, and would most likely only be useful as a tool to illustrate relationships between environmental predictors and processes.  \n",
    "\n",
    "Results of actual experiments must be considered to make models better.\n",
    "\n",
    "what other data might be interesting to consider in the model? soil depth, type, vegetation community, past land uses, etc.\n",
    "\n",
    "what management action do you recommend the most for improving water quality? is that true across the board, or are there differences in results depending on acreage and/or chemistry? how does sediment relate to runoff chemistry?"
   ]
  },
  {
   "cell_type": "code",
   "execution_count": null,
   "metadata": {
    "collapsed": true
   },
   "outputs": [],
   "source": []
  },
  {
   "cell_type": "markdown",
   "metadata": {
    "collapsed": true
   },
   "source": [
    "## Conclusions\n",
    "If you are down to change from flood to sprinkler irrigation, that would be the most effective step to take for limiting sediment and nutrient runoff. But it also shows the most improvement (via uplift) when you add in a buffer, a fence, or both. There's ultimately not that significant of a difference between those treatments, so you might want to look at which option is the most practical and/or financially sensible for your particular field.\n",
    "\n",
    "Sprinkler-irrigated fields have much less runoff in general, and they respond much less dramatically to buffers and fences than flood-irrigated fields. Thus, flood-irrigated fields show the greatest uplift values and the greatest \"bang for your buck\".\n",
    "\n",
    "Larger fields (i.e. 10 or more acres) have less runoff in general "
   ]
  },
  {
   "cell_type": "code",
   "execution_count": null,
   "metadata": {
    "collapsed": true
   },
   "outputs": [],
   "source": [
    "# stacked barplot comparing all broken-down runoff in larger vs. smaller plots "
   ]
  },
  {
   "cell_type": "code",
   "execution_count": null,
   "metadata": {
    "collapsed": true
   },
   "outputs": [],
   "source": []
  },
  {
   "cell_type": "code",
   "execution_count": null,
   "metadata": {
    "collapsed": true
   },
   "outputs": [],
   "source": []
  },
  {
   "cell_type": "code",
   "execution_count": null,
   "metadata": {
    "collapsed": true
   },
   "outputs": [],
   "source": []
  },
  {
   "cell_type": "code",
   "execution_count": null,
   "metadata": {
    "collapsed": true
   },
   "outputs": [],
   "source": []
  },
  {
   "cell_type": "code",
   "execution_count": null,
   "metadata": {
    "collapsed": true
   },
   "outputs": [],
   "source": []
  },
  {
   "cell_type": "code",
   "execution_count": null,
   "metadata": {
    "collapsed": true
   },
   "outputs": [],
   "source": []
  },
  {
   "cell_type": "code",
   "execution_count": null,
   "metadata": {
    "collapsed": true
   },
   "outputs": [],
   "source": []
  },
  {
   "cell_type": "code",
   "execution_count": null,
   "metadata": {
    "collapsed": true
   },
   "outputs": [],
   "source": []
  }
 ],
 "metadata": {
  "anaconda-cloud": {},
  "kernelspec": {
   "display_name": "Python [Root]",
   "language": "python",
   "name": "Python [Root]"
  },
  "language_info": {
   "codemirror_mode": {
    "name": "ipython",
    "version": 3
   },
   "file_extension": ".py",
   "mimetype": "text/x-python",
   "name": "python",
   "nbconvert_exporter": "python",
   "pygments_lexer": "ipython3",
   "version": "3.5.6"
  }
 },
 "nbformat": 4,
 "nbformat_minor": 2
}
